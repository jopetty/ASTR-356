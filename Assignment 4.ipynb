{
 "cells": [
  {
   "cell_type": "markdown",
   "metadata": {},
   "source": [
    "# Assignment 4"
   ]
  },
  {
   "cell_type": "markdown",
   "metadata": {},
   "source": [
    "## Problem 1: GRB Afterglow (15 pts)\n",
    "This problem is a continuation of the lab that was done in class on March 1 (lab #7).\n",
    "Download the file GRB_afterglow.dat from the canvas site or from\n",
    "astrostatistics.psu.edu/datasets/GRB_afterglow.html.\n",
    "You should read about this dataset in that webpage. Make sure you understand the two\n",
    "exercises we conducted as part of the lab, then do the following:\n",
    "Determine the best-fit of a line with a break (or changepoint) at $k$. The function looks\n",
    "like this\n",
    "$$Y = \\beta_0 + \\beta_1X + \\beta_2(X - k)I\\{X>k\\} + \\varepsilon,$$\n",
    "where $I\\{\\cdot,\\cdot\\}$ is the indicator function such that \n",
    "$$I\\{X>k\\} = \\begin{cases} 1 & \\text{if $X > k$,} \\\\ 0 & \\text{otherwise.} \\end{cases}$$\n",
    "In our case, $Y = \\ln(F_x)$ and $X = \\ln(t)$, where $F_x$ is the X-ray flux (in units of $10^{-11}$ erg/cm^2/s) and $t$ is time in seconds.\n",
    "\n",
    "- (a) Fit the simple linear regression model (with errors) with a changepoint k=7. Give the results and plot the line over the data.\n",
    "- (b) Do the same as in (a), but now with a changepoint k=8. Give the results and plot the line over the data.\n",
    "- (c) Make a plot of the residuals for the fits done in (a) and (b). Use these plots and a measure of the degree of deviation between the points and the model to decide which of the two models is a better fit."
   ]
  },
  {
   "cell_type": "code",
   "execution_count": 28,
   "metadata": {},
   "outputs": [],
   "source": [
    "import numpy as np\n",
    "from matplotlib import pyplot as plt\n",
    "%matplotlib inline"
   ]
  },
  {
   "cell_type": "code",
   "execution_count": 54,
   "metadata": {},
   "outputs": [],
   "source": [
    "# PART A\n",
    "\n",
    "def I(X, k):\n",
    "    return 1 if X > k else 0\n",
    "\n",
    "def changepointPlot(x, y, err, k):\n",
    "    # Regression\n",
    "    X = np.array([[1.0 / err[i],\n",
    "                   x[i] / err[i],\n",
    "                   (x[i] - k)*I(i, k) / err[i]] for i in range(len(data))])\n",
    "    y_np = y / err\n",
    "    beta, chi_sq = np.linalg.lstsq(X, y_np, rcond=-1)[:2]\n",
    "    \n",
    "    # Plots\n",
    "#     plt.figure(dpi=300)\n",
    "    plt.errorbar(x, y + x, yerr = err, fmt='x');\n",
    "    \n",
    "    t_sample = np.linspace(4, 13, 1000)\n",
    "    indicator = [I(t,k) for t in t_sample]\n",
    "    response = beta[0] + t_sample * (beta[1] + 1) + (t_sample - k) * indicator * beta[2]\n",
    "#     print(respSonse)\n",
    "    plt.plot(t_sample, response);\n",
    "    \n",
    "    return (t_sample, response)\n",
    "\n",
    "## Import raw data\n",
    "data = np.genfromtxt(\"GRB_afterglow.dat\", skip_header = 2)\n",
    "time = np.log(data[:, 0]) # time\n",
    "flux = np.log(data[:, 1]) # flux\n",
    "flux_err = data[:, 2] / data[:, 1] # error in flux"
   ]
  },
  {
   "cell_type": "code",
   "execution_count": 56,
   "metadata": {},
   "outputs": [
    {
     "data": {
      "image/png": "[encoded data removed]",
      "text/plain": [
       "<matplotlib.figure.Figure at 0x1097a0e80>"
      ]
     },
     "metadata": {},
     "output_type": "display_data"
    }
   ],
   "source": [
    "# Part A\n",
    "model7 = changepointPlot(time, flux, flux_err, k = 7)"
   ]
  },
  {
   "cell_type": "code",
   "execution_count": 57,
   "metadata": {},
   "outputs": [
    {
     "data": {
      "image/png": "[encoded data removed]",
      "text/plain": [
       "<matplotlib.figure.Figure at 0x10df522b0>"
      ]
     },
     "metadata": {},
     "output_type": "display_data"
    }
   ],
   "source": [
    "# Part B\n",
    "model8 = changepointPlot(time, flux, flux_err, k = 8)"
   ]
  },
  {
   "cell_type": "code",
   "execution_count": 62,
   "metadata": {},
   "outputs": [
    {
     "ename": "TypeError",
     "evalue": "'numpy.float64' object is not iterable",
     "output_type": "error",
     "traceback": [
      "\u001b[0;31m---------------------------------------------------------------------------\u001b[0m",
      "\u001b[0;31mTypeError\u001b[0m                                 Traceback (most recent call last)",
      "\u001b[0;32m<ipython-input-62-e2b1eddf9d72>\u001b[0m in \u001b[0;36m<module>\u001b[0;34m()\u001b[0m\n\u001b[1;32m      1\u001b[0m \u001b[0;31m# Part C\u001b[0m\u001b[0;34m\u001b[0m\u001b[0;34m\u001b[0m\u001b[0m\n\u001b[0;32m----> 2\u001b[0;31m \u001b[0;32mfor\u001b[0m \u001b[0mi\u001b[0m\u001b[0;34m,\u001b[0m\u001b[0mt\u001b[0m \u001b[0;32min\u001b[0m \u001b[0mtime\u001b[0m\u001b[0;34m:\u001b[0m\u001b[0;34m\u001b[0m\u001b[0m\n\u001b[0m\u001b[1;32m      3\u001b[0m     \u001b[0mprint\u001b[0m\u001b[0;34m(\u001b[0m\u001b[0mt\u001b[0m\u001b[0;34m)\u001b[0m\u001b[0;34m\u001b[0m\u001b[0m\n",
      "\u001b[0;31mTypeError\u001b[0m: 'numpy.float64' object is not iterable"
     ]
    }
   ],
   "source": [
    "# Part C\n",
    "for i,t in time:\n",
    "    print(t)"
   ]
  },
  {
   "cell_type": "code",
   "execution_count": null,
   "metadata": {},
   "outputs": [],
   "source": []
  }
 ],
 "metadata": {
  "kernelspec": {
   "display_name": "Python 3",
   "language": "python",
   "name": "python3"
  },
  "language_info": {
   "codemirror_mode": {
    "name": "ipython",
    "version": 3
   },
   "file_extension": ".py",
   "mimetype": "text/x-python",
   "name": "python",
   "nbconvert_exporter": "python",
   "pygments_lexer": "ipython3",
   "version": "3.6.2"
  }
 },
 "nbformat": 4,
 "nbformat_minor": 2
}
