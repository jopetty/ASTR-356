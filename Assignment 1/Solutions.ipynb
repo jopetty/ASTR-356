{
 "cells": [
  {
   "cell_type": "markdown",
   "metadata": {},
   "source": [
    "## Problem 5"
   ]
  },
  {
   "cell_type": "code",
   "execution_count": 25,
   "metadata": {},
   "outputs": [
    {
     "data": {
      "image/png": "[encoded data removed]",
      "text/plain": [
       "<matplotlib.figure.Figure at 0x1059b2f28>"
      ]
     },
     "metadata": {},
     "output_type": "display_data"
    }
   ],
   "source": [
    "from matplotlib import pyplot as plt\n",
    "import numpy as np\n",
    "\n",
    "%matplotlib inline\n",
    "\n",
    "# Probability that our result is a false positive\n",
    "false_positive = np.arange(0.0,1.0,0.01)\n",
    "\n",
    "# Estimated prevelance of radio-loud AGN\n",
    "radio_loud_prev_est = 0.1\n",
    "\n",
    "# Sensitivity to true positives\n",
    "sensitivity = 0.8\n",
    "\n",
    "# Use TeX\n",
    "plt.rc('text', usetex=True)\n",
    "plt.rc('font', family='serif')\n",
    "\n",
    "plt.plot(false_positive, (sensitivity * radio_loud_prev_est)/(sensitivity * radio_loud_prev_est + false_positive * (1-radio_loud_prev_est)),  color='xkcd:coral')\n",
    "\n",
    "plt.xlabel(r'$P(X = 1 \\;|\\; \\theta = \\theta_2)$')\n",
    "plt.ylabel(r'$P(\\theta = \\theta_1\\;|\\;X = 1)$')\n",
    "plt.title(r'Probability of detecting radio-loud AGN vs false positive incidence')\n",
    "\n",
    "plt.savefig('plot.png', dpi = 300)\n",
    "\n",
    "plt.show()"
   ]
  },
  {
   "cell_type": "markdown",
   "metadata": {},
   "source": [
    "## Problem 6"
   ]
  },
  {
   "cell_type": "code",
   "execution_count": 26,
   "metadata": {},
   "outputs": [
    {
     "name": "stdout",
     "output_type": "stream",
     "text": [
      "(6b)\n",
      "Mean:\t\t 5.1945350226386776e-05 \n",
      "Expected Mean:\t 0.0 \n",
      "\n",
      "Var:\t\t 0.6650317251970745 \n",
      "Expected Var:\t 0.6666666666666666\n",
      "\n",
      "(6c)\n",
      "P(X ≥ 0):\t\t 0.5004\n",
      "Expected P(X ≥ 0):\t 0.5\n"
     ]
    }
   ],
   "source": [
    "# Set the parameters for our triangle distribution\n",
    "a = 2.0\n",
    "mode = 0.0\n",
    "\n",
    "# Get distribution with 10**6 values\n",
    "sample = np.random.triangular(-a, mode, a, 10**6)\n",
    "\n",
    "print(\"(6b)\")\n",
    "mean, variance = (np.mean(sample), np.var(sample))\n",
    "print(\"Mean:\\t\\t\",mean,\"\\nExpected Mean:\\t\",0.0,\"\\n\")\n",
    "print(\"Var:\\t\\t\", variance, \"\\nExpected Var:\\t\",a**2/6)\n",
    "\n",
    "print(\"\\n(6c)\")\n",
    "selected_samples = list(filter(lambda t : t > 0, sample))\n",
    "print(\"P(X ≥ 0):\\t\\t\",float(len(selected_samples))/len(list(sample)))\n",
    "print(\"Expected P(X ≥ 0):\\t\",0.5)"
   ]
  },
  {
   "cell_type": "markdown",
   "metadata": {},
   "source": [
    "## Problem 7"
   ]
  },
  {
   "cell_type": "code",
   "execution_count": 28,
   "metadata": {},
   "outputs": [
    {
     "name": "stdout",
     "output_type": "stream",
     "text": [
      "Without switching, you won 33.19% of the time.\n",
      "After switching, you won 66.8% of the time.\n"
     ]
    }
   ],
   "source": [
    "trials = 10**5\n",
    "stay_score = 0.0\n",
    "\n",
    "for t in range(trials):\n",
    "    # Monty Places the car and goats\n",
    "    car_door = np.random.randint(0,3) # index is in the range (0,3] \n",
    "    \n",
    "    # Contestant chooses one door\n",
    "    guess = np.random.randint(0,3)\n",
    "    \n",
    "    # Monty Opens a goat door, but contestant does not switch\n",
    "    \n",
    "    # Monty opens remaining two doors to see if contestant won\n",
    "    if car_door == guess:\n",
    "        stay_score += 1.0\n",
    "\n",
    "print(\"Without switching, you won \", round(stay_score / trials, 4) * 100, \"% of the time.\", sep = \"\")\n",
    "\n",
    "switch_score = 0.0\n",
    "\n",
    "for t in range(trials):\n",
    "    # Monty places the car and goats\n",
    "    car_door = np.random.randint(0,3)\n",
    "    \n",
    "    # Contestant chooses one door\n",
    "    guess = np.random.randint(0,3)\n",
    "    \n",
    "    # Monty decides which goat door to show\n",
    "    # At this point, he knows if the contestant chose correctly\n",
    "    # and will act accordingly, but the contestant doesn't know\n",
    "    new_doors = []\n",
    "    if car_door != guess:\n",
    "        new_doors = [car_door, guess]\n",
    "    else:\n",
    "        n = 1\n",
    "        while n == guess:\n",
    "            n = np.random.randint(0,3)\n",
    "        new_doors = [guess, n]\n",
    "        \n",
    "    # Contestant switches doors\n",
    "    # He doesn't know which of the above choices Monty made\n",
    "    new_doors.remove(guess)\n",
    "    guess = new_doors[0]\n",
    "    \n",
    "    # Monty opens remaining two doors to see if contesnant won\n",
    "    if guess == car_door:\n",
    "        switch_score += 1.0\n",
    "\n",
    "print(\"After switching, you won \", round(switch_score / trials, 4) * 100, \"% of the time.\", sep = \"\")\n",
    "    "
   ]
  },
  {
   "cell_type": "markdown",
   "metadata": {},
   "source": [
    "As expected, switching your door increases your chance of success from 1/3 to 2/3."
   ]
  }
 ],
 "metadata": {
  "kernelspec": {
   "display_name": "Python 3",
   "language": "python",
   "name": "python3"
  },
  "language_info": {
   "codemirror_mode": {
    "name": "ipython",
    "version": 3
   },
   "file_extension": ".py",
   "mimetype": "text/x-python",
   "name": "python",
   "nbconvert_exporter": "python",
   "pygments_lexer": "ipython3",
   "version": "3.6.2"
  }
 },
 "nbformat": 4,
 "nbformat_minor": 2
}
