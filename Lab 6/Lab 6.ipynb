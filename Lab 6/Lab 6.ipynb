{
 "cells": [
  {
   "cell_type": "code",
   "execution_count": 43,
   "metadata": {},
   "outputs": [],
   "source": [
    "import numpy as np\n",
    "from matplotlib import pyplot as plt\n",
    "import math\n",
    "\n",
    "# Constants\n",
    "N_s = 100\n",
    "sig_x = 10\n",
    "mu = 0\n",
    "sig_lambda = 1\n",
    "\n",
    "# Part 1\n",
    "trials = 10**4\n",
    "\n",
    "success_freq = []\n",
    "success_bays = []\n",
    "\n",
    "means = []\n",
    "\n",
    "for i in range(trials):\n",
    "    lambd = np.random.normal(mu, sig_lambda)\n",
    "    values = np.random.normal(lambd, sig_x, size = N_s)\n",
    "    means.append(np.mean(values) - lambd)\n",
    "    freq_ci = (np.mean(values)-1.0, np.mean(values)+1.0)\n",
    "    bays_ci = (np.mean(values)/2.0 - 1.0/math.sqrt(2.0), np.mean(values)/2.0 + 1.0/math.sqrt(2.0))\n",
    "    success_freq.append(lambd >= freq_ci[0] and lambd <= freq_ci[1])\n",
    "    success_bays.append(lambd >= bays_ci[0] and lambd <= bays_ci[1])"
   ]
  },
  {
   "cell_type": "code",
   "execution_count": 44,
   "metadata": {},
   "outputs": [
    {
     "name": "stdout",
     "output_type": "stream",
     "text": [
      "Freq Success:  0.6887\n",
      "Bays Success:  0.6774\n"
     ]
    }
   ],
   "source": [
    "print(\"Freq Success: \", sum(success_freq)/float(trials))\n",
    "print(\"Bays Success: \", sum(success_bays)/float(trials))"
   ]
  },
  {
   "cell_type": "code",
   "execution_count": 54,
   "metadata": {},
   "outputs": [
    {
     "data": {
      "text/plain": [
       "<Container object of 3 artists>"
      ]
     },
     "execution_count": 54,
     "metadata": {},
     "output_type": "execute_result"
    },
    {
     "data": {
      "image/png": "[encoded data removed]",
      "text/plain": [
       "<matplotlib.figure.Figure at 0x10d32bc18>"
      ]
     },
     "metadata": {},
     "output_type": "display_data"
    }
   ],
   "source": [
    "plt.errorbar(np.arange(trials)[0:30], means[0:30], yerr = 0.5+1/math.sqrt(2), fmt = 'o', capsize = 10)\n",
    "plt.errorbar(np.arange(trials)[0:30], means[0:30], yerr = 1, fmt = 'o', capsize = 2)"
   ]
  }
 ],
 "metadata": {
  "kernelspec": {
   "display_name": "Python 3",
   "language": "python",
   "name": "python3"
  },
  "language_info": {
   "codemirror_mode": {
    "name": "ipython",
    "version": 3
   },
   "file_extension": ".py",
   "mimetype": "text/x-python",
   "name": "python",
   "nbconvert_exporter": "python",
   "pygments_lexer": "ipython3",
   "version": "3.6.2"
  }
 },
 "nbformat": 4,
 "nbformat_minor": 2
}
